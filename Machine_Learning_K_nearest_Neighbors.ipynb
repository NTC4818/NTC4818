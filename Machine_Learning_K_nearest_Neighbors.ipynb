{
  "nbformat": 4,
  "nbformat_minor": 0,
  "metadata": {
    "colab": {
      "name": "Machine Learning K nearest Neighbors",
      "provenance": [],
      "authorship_tag": "ABX9TyNkEpFPBv1+/wCLo5fPxBjR",
      "include_colab_link": true
    },
    "kernelspec": {
      "name": "python3",
      "display_name": "Python 3"
    }
  },
  "cells": [
    {
      "cell_type": "markdown",
      "metadata": {
        "id": "view-in-github",
        "colab_type": "text"
      },
      "source": [
        "<a href=\"https://colab.research.google.com/github/NTC4818/NTC4818/blob/main/Machine_Learning_K_nearest_Neighbors.ipynb\" target=\"_parent\"><img src=\"https://colab.research.google.com/assets/colab-badge.svg\" alt=\"Open In Colab\"/></a>"
      ]
    },
    {
      "cell_type": "code",
      "metadata": {
        "id": "WGv0yRUPtqz9"
      },
      "source": [
        "from sklearn import preprocessing\n",
        "from sklearn.utils import shuffle\n",
        "from sklearn.neighbors import KNeighborsClassifier\n",
        "import pandas as pd\n",
        "import numpy as np\n",
        "from sklearn import linear_model, preprocessing\n"
      ],
      "execution_count": null,
      "outputs": []
    },
    {
      "cell_type": "code",
      "metadata": {
        "colab": {
          "base_uri": "https://localhost:8080/"
        },
        "id": "nkDsqSmcu8qX",
        "outputId": "06574e14-2aae-4123-b956-a7f483d088ab"
      },
      "source": [
        "data = pd.read_csv(\"car.data\")\n",
        "print(data.head())"
      ],
      "execution_count": null,
      "outputs": [
        {
          "output_type": "stream",
          "text": [
            "  buying  maint door persons lug_boot safety  class\n",
            "0  vhigh  vhigh    2       2    small    low  unacc\n",
            "1  vhigh  vhigh    2       2    small    med  unacc\n",
            "2  vhigh  vhigh    2       2    small   high  unacc\n",
            "3  vhigh  vhigh    2       2      med    low  unacc\n",
            "4  vhigh  vhigh    2       2      med    med  unacc\n"
          ],
          "name": "stdout"
        }
      ]
    },
    {
      "cell_type": "code",
      "metadata": {
        "id": "70WgTqtLvyAW"
      },
      "source": [
        "le = preprocessing.LabelEncoder()\n",
        "buying = le.fit_transform(list(data[\"buying\"]))\n",
        "maint = le.fit_transform(list(data[\"maint\"]))\n",
        "door = le.fit_transform(list(data[\"door\"]))\n",
        "persons = le.fit_transform(list(data[\"persons\"]))\n",
        "lug_boot = le.fit_transform(list(data[\"lug_boot\"]))\n",
        "safety = le.fit_transform(list(data[\"safety\"]))\n",
        "cls = le.fit_transform(list(data[\"class\"]))"
      ],
      "execution_count": null,
      "outputs": []
    },
    {
      "cell_type": "code",
      "metadata": {
        "id": "YQZOFXn4wJSG"
      },
      "source": [
        "predict = \"class\"  #optional\n",
        "\n",
        "X = list(zip(buying, maint, door, persons, lug_boot, safety))\n",
        "y = list(cls)"
      ],
      "execution_count": null,
      "outputs": []
    },
    {
      "cell_type": "code",
      "metadata": {
        "id": "6UrvSvDYyU9m"
      },
      "source": [
        "from sklearn.model_selection import train_test_split\n",
        "x_train, x_test, Y_train, Y_test = train_test_split(X,y, test_size=0.1)"
      ],
      "execution_count": null,
      "outputs": []
    },
    {
      "cell_type": "code",
      "metadata": {
        "colab": {
          "base_uri": "https://localhost:8080/"
        },
        "id": "gvI7IJ6V0NMN",
        "outputId": "99f1a410-7490-4a6c-eb32-6f51b00af22a"
      },
      "source": [
        "Model = KNeighborsClassifier(n_neighbors = 9)\n",
        "Model.fit(x_train,Y_train)\n",
        "acc = Model.score(x_test, Y_test)\n",
        "print(acc)"
      ],
      "execution_count": null,
      "outputs": [
        {
          "output_type": "stream",
          "text": [
            "0.976878612716763\n"
          ],
          "name": "stdout"
        }
      ]
    }
  ]
}